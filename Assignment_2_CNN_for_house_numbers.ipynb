{
  "nbformat": 4,
  "nbformat_minor": 0,
  "metadata": {
    "colab": {
      "name": "Assignment 2: CNN for house numbers",
      "provenance": []
    },
    "kernelspec": {
      "name": "python3",
      "display_name": "Python 3"
    },
    "accelerator": "GPU"
  },
  "cells": [
    {
      "cell_type": "markdown",
      "metadata": {
        "id": "dYgpzGuMdx8-",
        "colab_type": "text"
      },
      "source": [
        "#Assignment 2 - CNN over SVHN\n",
        "\n",
        "In this assignment you are requested to build a convolutional network and train it over the SVHN data, which is a collection of 3X32X32 images, classified into 10 digits. For more information about the dataset, you may go to \n",
        "http://ufldl.stanford.edu/housenumbers/"
      ]
    },
    {
      "cell_type": "code",
      "metadata": {
        "id": "Q5w6wIzcd1LG",
        "colab_type": "code",
        "colab": {
          "base_uri": "https://localhost:8080/",
          "height": 85
        },
        "outputId": "0d743272-3c3b-4868-85c3-7060ca944ac8"
      },
      "source": [
        "from google.colab import drive\n",
        "drive.mount('/content/drive')\n",
        "%cd '/content/drive/My Drive/Practical topics in Machine Learning/EX2'\n",
        "\n",
        "import os\n",
        "import numpy as np\n",
        "import torch\n",
        "from time import time\n",
        "import torch.nn as nn\n",
        "import torchvision\n",
        "import torchvision.transforms as transforms\n",
        "import torch.nn.functional as F\n",
        "import matplotlib.pyplot as plt\n",
        "\n",
        "trainset = torchvision.datasets.SVHN(root='./data', split='train',\n",
        "                                        download=True, transform=transforms.ToTensor())\n",
        "\n",
        "testset = torchvision.datasets.SVHN(root='./data', split='test',\n",
        "                                        download=True, transform=transforms.ToTensor())"
      ],
      "execution_count": null,
      "outputs": [
        {
          "output_type": "stream",
          "text": [
            "Drive already mounted at /content/drive; to attempt to forcibly remount, call drive.mount(\"/content/drive\", force_remount=True).\n",
            "/content/drive/My Drive/Practical topics in Machine Learning/EX2\n",
            "Using downloaded and verified file: ./data/train_32x32.mat\n",
            "Using downloaded and verified file: ./data/test_32x32.mat\n"
          ],
          "name": "stdout"
        }
      ]
    },
    {
      "cell_type": "code",
      "metadata": {
        "id": "ytzC8AfzOK3J",
        "colab_type": "code",
        "colab": {
          "base_uri": "https://localhost:8080/",
          "height": 34
        },
        "outputId": "089a0ce8-b107-4701-c22d-da0d8b91e10a"
      },
      "source": [
        "len(testset)"
      ],
      "execution_count": null,
      "outputs": [
        {
          "output_type": "execute_result",
          "data": {
            "text/plain": [
              "26032"
            ]
          },
          "metadata": {
            "tags": []
          },
          "execution_count": 2
        }
      ]
    },
    {
      "cell_type": "code",
      "metadata": {
        "id": "92MoItRaOPzU",
        "colab_type": "code",
        "colab": {}
      },
      "source": [
        "# Use dataloaders for train and test (batch size is 8)\n",
        "\n",
        "trainloader = torch.utils.data.DataLoader(trainset, batch_size=8,\n",
        "                                          shuffle=True)\n",
        "\n",
        "testloader = torch.utils.data.DataLoader(testset, batch_size=8,\n",
        "                                         shuffle=False)"
      ],
      "execution_count": null,
      "outputs": []
    },
    {
      "cell_type": "code",
      "metadata": {
        "id": "nPTY-2frOTP0",
        "colab_type": "code",
        "colab": {
          "base_uri": "https://localhost:8080/",
          "height": 34
        },
        "outputId": "7077e456-91fe-4d08-db73-c73df36d323c"
      },
      "source": [
        "# The images are tensors of 3, 32, 32\n",
        "trainset[0][0].shape"
      ],
      "execution_count": null,
      "outputs": [
        {
          "output_type": "execute_result",
          "data": {
            "text/plain": [
              "torch.Size([3, 32, 32])"
            ]
          },
          "metadata": {
            "tags": []
          },
          "execution_count": 4
        }
      ]
    },
    {
      "cell_type": "markdown",
      "metadata": {
        "id": "E6jH2cjTVnVi",
        "colab_type": "text"
      },
      "source": [
        "Here is what you need to do; you are encoureged to look at notebook \"Notebook 11 - CIFAR CNN\" when trying to complete the next steps.\n",
        "\n",
        "\n",
        "Write a network SVHNCnn, that has the following architecture:\n",
        "\n",
        "* Convolution with 10 3X3 filters\n",
        "* Relu\n",
        "* Max pool with 2X2\n",
        "* Convolution with 5 3X3 filters\n",
        "* Relu\n",
        "* Convolution with 16 3X3 filters\n",
        "* Relu\n",
        "* Max pool with 2X2\n",
        "* Convolution with 24 3X3 filters\n",
        "* Relu\n",
        "* Max pool with 2X2\n",
        "* Liner, output size 128\n",
        "* Relu\n",
        "* Liner, output size 64\n",
        "* Relu\n",
        "* Liner, output size 10"
      ]
    },
    {
      "cell_type": "code",
      "metadata": {
        "id": "-bgkfG-NOd5n",
        "colab_type": "code",
        "colab": {}
      },
      "source": [
        "class SVHNCnn(nn.Module):\n",
        "\n",
        "    def __init__(self):\n",
        "        super(SVHNCnn, self).__init__()\n",
        "        self.conv1 = nn.Conv2d(3, 10, 3)\n",
        "        self.conv2 = nn.Conv2d(10, 5, 3)\n",
        "        self.conv3 = nn.Conv2d(5, 16, 3)\n",
        "        self.conv4 = nn.Conv2d(16, 24, 3)\n",
        "\n",
        "        # Using Batch normalization on the convolution layers\n",
        "        self.batchNorm2d_0 = nn.BatchNorm2d(10)\n",
        "        self.batchNorm2d_1 = nn.BatchNorm2d(5)\n",
        "        self.batchNorm2d_2 = nn.BatchNorm2d(16)\n",
        "        self.batchNorm2d_3 = nn.BatchNorm2d(24)\n",
        "\n",
        "        # 3 FC layers\n",
        "        self.fc1 = nn.Linear(24 * 1 * 1, 128)\n",
        "        self.fc2 = nn.Linear(128, 64)\n",
        "        self.fc3 = nn.Linear(64, 10)\n",
        "    \n",
        "    def forward(self, x):\n",
        "        x = F.max_pool2d(F.relu(self.batchNorm2d_0(self.conv1(x))), (2, 2))\n",
        "        x = F.relu(self.batchNorm2d_1(self.conv2(x)))\n",
        "        x = F.max_pool2d(F.relu(self.batchNorm2d_2(self.conv3(x))), (2, 2))\n",
        "        x = F.max_pool2d(F.relu(self.batchNorm2d_3(self.conv4(x))), (2, 2))\n",
        "        x = x.view(-1, self.num_flat_features(x))\n",
        "        x = F.relu(self.fc1(x))\n",
        "        x = F.relu(self.fc2(x))\n",
        "        x = self.fc3(x)\n",
        "        return x\n",
        "\n",
        "    def num_flat_features(self, x):\n",
        "        size = x.size()[1:]  # all dimensions except the batch dimension\n",
        "        num_features = 1\n",
        "        for s in size:\n",
        "            num_features *= s\n",
        "        return num_features"
      ],
      "execution_count": null,
      "outputs": []
    },
    {
      "cell_type": "markdown",
      "metadata": {
        "id": "ksWPM9kvYWmC",
        "colab_type": "text"
      },
      "source": [
        "Write a code that trains the network with SVHN train dataset, for classification (use cross entropy, and SGD).\n",
        "Run the network for at least 10 epochs, over the entire dataset. Make sure to print the loss over the train set as well as the **test set** over time (say, every 1000 batches, but it's up to you), so you will know where you are during training. \n",
        "\n",
        "Note, measuring loss of test is similar to measuring loss over the train test. However, make sure not to run the test images in back propagation. Use them only in forward and calulate the average loss over the entire test set. Since it will make the training process run slower, you should measure loss for the test set only at the end of an epoch (so overall you get 10 loss values for the test set). You are encoureged to write a different function for claculating the loss of the test set, and then call it from the training procedure.\n",
        "\n",
        "\n",
        "You should collect the loss values in an array, so you can plot then into two curves, one for train and one for test.\n",
        "\n",
        "In addition, you should measure the time it takes you to train the network completely.\n",
        "\n"
      ]
    },
    {
      "cell_type": "code",
      "metadata": {
        "id": "LEfWQzWrOugS",
        "colab_type": "code",
        "colab": {}
      },
      "source": [
        "def train(model, trainloader, testloader, criterion, optimizer, lr):\n",
        "    \n",
        "    train_losses, test_losses = [], []\n",
        "    \n",
        "    EPOCHS = 10\n",
        "\n",
        "    # Count wall-clock time for the whole training process\n",
        "    start_time = time()\n",
        "\n",
        "    for epoch in range(EPOCHS):\n",
        "\n",
        "        # Training mode\n",
        "        model.train()\n",
        "\n",
        "        sum_loss = 0.0\n",
        "        running_loss = 0.0\n",
        "\n",
        "        for batch_idx, (inputs, labels) in enumerate(trainloader):\n",
        "\n",
        "            # Zero the gradients from the previous iteration\n",
        "            optimizer.zero_grad()\n",
        "\n",
        "            if torch.cuda.is_available():\n",
        "                inputs = inputs.cuda()\n",
        "                labels = labels.cuda()\n",
        "\n",
        "            # Forward pass\n",
        "            outputs = model(inputs)\n",
        "\n",
        "            # Compute Cross entropy loss\n",
        "            loss = criterion(outputs, labels)\n",
        "            sum_loss += loss.item()\n",
        "            running_loss += loss.item()\n",
        "\n",
        "            # Back propagation- computing the gradients\n",
        "            loss.backward()\n",
        "\n",
        "            # Update the parameters\n",
        "            optimizer.step()\n",
        "\n",
        "            if (batch_idx + 1) % 1000 == 0:\n",
        "                current = running_loss / 1000\n",
        "                train_losses.append(current)\n",
        "                print(\"Epoch: {}/{}...\".format(epoch + 1, EPOCHS),\n",
        "                      \"Step: {}...\".format(batch_idx + 1),\n",
        "                      \"Train Loss: {:.3f}...\".format(current))\n",
        "                running_loss = 0.0\n",
        "\n",
        "        # Compute the loss on the training set in the current epoch\n",
        "        train_loss = sum_loss / len(trainloader.dataset)\n",
        "\n",
        "        # Compute the loss on the test set in the current epoch\n",
        "        test_loss = calculate_test_loss(model, testloader, criterion)\n",
        "        test_losses.append(test_loss)\n",
        "\n",
        "        print(\"Epoch: {}/{}...\".format(epoch + 1, EPOCHS),\n",
        "              \"Train Loss: {:.3f}...\".format(train_loss),\n",
        "              \"Test Loss: {:.3f}\".format(test_loss))\n",
        "\n",
        "        # Decay the learning rate every three epochs\n",
        "        if (epoch + 1) % 3 == 0:\n",
        "            lr /= 2\n",
        "            for group in optimizer.param_groups:\n",
        "                group['lr'] = lr\n",
        "                print(\"It's epoch number {} and the new lr is {}\".format(epoch + 1, group['lr']))\n",
        "\n",
        "    passed_time = time() - start_time\n",
        "    print('The training ended after %.3f minutes' % (passed_time / 60))\n",
        "\n",
        "    return epochs_train_loss, epochs_test_loss\n"
      ],
      "execution_count": null,
      "outputs": []
    },
    {
      "cell_type": "code",
      "metadata": {
        "id": "LDXNMRgmHxCM",
        "colab_type": "code",
        "colab": {}
      },
      "source": [
        "def calculate_test_loss(model, data_loader, criterion):\n",
        "    \n",
        "    # Evaluation mode\n",
        "    model.eval()\n",
        "\n",
        "    sum_loss = 0.0\n",
        "\n",
        "    with torch.no_grad():\n",
        "        \n",
        "        for batch_idx, (inputs, labels) in enumerate(data_loader):\n",
        "           \n",
        "            if torch.cuda.is_available():\n",
        "                inputs = inputs.cuda()\n",
        "                labels = labels.cuda()\n",
        "\n",
        "            # Forward pass\n",
        "            outputs = model(inputs)\n",
        "\n",
        "            # Compute Cross entropy loss\n",
        "            loss = criterion(outputs, labels)\n",
        "            sum_loss += loss.item()\n",
        "\n",
        "    # Return the loss on the test set\n",
        "    return sum_loss / len(data_loader.dataset)"
      ],
      "execution_count": null,
      "outputs": []
    },
    {
      "cell_type": "code",
      "metadata": {
        "id": "8f2VOhCVIZIA",
        "colab_type": "code",
        "colab": {}
      },
      "source": [
        "def plot_graph(dataset, loss, folder):\n",
        "    plt.title(\"Loss Over \" + dataset)\n",
        "\n",
        "    label, color, ticks = (\n",
        "    \"Number of batches seen / 1000\", 'blue', [i for i in range(0, 90 + 1, 9)]\n",
        "    ) if dataset == 'Train' else (\"Epochs\", 'red', range(len(loss)))\n",
        "\n",
        "    plt.plot(range(len(loss)), loss, label=dataset + ' Loss', color=color)\n",
        "\n",
        "    plt.ylabel(\"Loss\")\n",
        "    plt.xlabel(label)\n",
        "\n",
        "    plt.xticks(ticks)\n",
        "    plt.legend(frameon=False)\n",
        "    plt.savefig(folder + '/' + \"Loss over \" + dataset + \".png\", dpi=192)\n",
        "    plt.show()"
      ],
      "execution_count": null,
      "outputs": []
    },
    {
      "cell_type": "code",
      "metadata": {
        "id": "HvCmXl8oFcPe",
        "colab_type": "code",
        "colab": {}
      },
      "source": [
        "def plot(folder_name, loss_train, loss_test):\n",
        "    \n",
        "    # Create a dir in the current working directory in which the generated\n",
        "    # graphs will be saved\n",
        "    output_dir = folder_name + \"_ results\"\n",
        "    if not os.path.exists(output_dir):\n",
        "        os.makedirs(output_dir)\n",
        "\n",
        "    print(\"\\t---------Results with \" + folder_name + \"---------\\n\")\n",
        "\n",
        "    # Plotting the graphs for both training set and test set\n",
        "    plot_graph(\"Train\", loss_train, output_dir)\n",
        "    plot_graph(\"Test\", loss_test, output_dir)"
      ],
      "execution_count": null,
      "outputs": []
    },
    {
      "cell_type": "markdown",
      "metadata": {
        "id": "Aa0sxqAhY8wA",
        "colab_type": "text"
      },
      "source": [
        "Write a function that evaluates the resulted model over the entire test data of SVHN. Provide a single accuracy number."
      ]
    },
    {
      "cell_type": "code",
      "metadata": {
        "id": "2DN1m6C4KaOS",
        "colab_type": "code",
        "colab": {}
      },
      "source": [
        "# Your code goes here\n",
        "def calculate_accuracy(model, data_loader):\n",
        "    \n",
        "    correct = 0\n",
        "    total = 0\n",
        "\n",
        "    with torch.no_grad():\n",
        "\n",
        "        for batch_idx, (inputs, labels) in enumerate(data_loader):\n",
        "\n",
        "            if torch.cuda.is_available():\n",
        "                inputs = inputs.cuda()\n",
        "\n",
        "            # Forward pass\n",
        "            outputs = model(inputs)\n",
        "            outputs = outputs.detach().cpu()\n",
        "\n",
        "            predictions = np.argmax(outputs.data, axis=1)\n",
        "\n",
        "            total += labels.size(0)\n",
        "            correct += (predictions == labels).sum().item()\n",
        "\n",
        "    return 100 * correct / total"
      ],
      "execution_count": null,
      "outputs": []
    },
    {
      "cell_type": "markdown",
      "metadata": {
        "id": "YFZXKnsqSgjy",
        "colab_type": "text"
      },
      "source": [
        "# Training with a CPU \n"
      ]
    },
    {
      "cell_type": "code",
      "metadata": {
        "id": "A2TlOyZGQAcA",
        "colab_type": "code",
        "colab": {}
      },
      "source": [
        "model_cpu = SVHNCnn()"
      ],
      "execution_count": null,
      "outputs": []
    },
    {
      "cell_type": "code",
      "metadata": {
        "id": "NA2JnWa_FMn6",
        "colab_type": "code",
        "colab": {}
      },
      "source": [
        "# Define loss function\n",
        "criterion = nn.CrossEntropyLoss()\n",
        "\n",
        "# Define the learning rate\n",
        "lr=0.004\n",
        "\n",
        "# Define the optimizer\n",
        "optimizer = torch.optim.SGD(model_cpu.parameters(), lr=lr,momentum=0.9)"
      ],
      "execution_count": null,
      "outputs": []
    },
    {
      "cell_type": "code",
      "metadata": {
        "id": "dsMDrH-KP5jb",
        "colab_type": "code",
        "colab": {
          "base_uri": "https://localhost:8080/",
          "height": 1000
        },
        "outputId": "1b312d2e-1177-4a6a-87f1-e550d368a880"
      },
      "source": [
        "# Training with CPU\n",
        "cpu_train_loss, cpu_test_loss= train(model_cpu, trainloader, testloader,criterion, optimizer,lr)"
      ],
      "execution_count": null,
      "outputs": [
        {
          "output_type": "stream",
          "text": [
            "Epoch: 1/10... Step: 1000... Train Loss: 1.740...\n",
            "Epoch: 1/10... Step: 2000... Train Loss: 1.034...\n",
            "Epoch: 1/10... Step: 3000... Train Loss: 0.861...\n",
            "Epoch: 1/10... Step: 4000... Train Loss: 0.809...\n",
            "Epoch: 1/10... Step: 5000... Train Loss: 0.762...\n",
            "Epoch: 1/10... Step: 6000... Train Loss: 0.725...\n",
            "Epoch: 1/10... Step: 7000... Train Loss: 0.696...\n",
            "Epoch: 1/10... Step: 8000... Train Loss: 0.672...\n",
            "Epoch: 1/10... Step: 9000... Train Loss: 0.668...\n",
            "Epoch: 1/10... Train Loss: 0.110... Test Loss: 0.091\n",
            "Epoch: 2/10... Step: 1000... Train Loss: 0.623...\n",
            "Epoch: 2/10... Step: 2000... Train Loss: 0.643...\n",
            "Epoch: 2/10... Step: 3000... Train Loss: 0.591...\n",
            "Epoch: 2/10... Step: 4000... Train Loss: 0.632...\n",
            "Epoch: 2/10... Step: 5000... Train Loss: 0.616...\n",
            "Epoch: 2/10... Step: 6000... Train Loss: 0.606...\n",
            "Epoch: 2/10... Step: 7000... Train Loss: 0.606...\n",
            "Epoch: 2/10... Step: 8000... Train Loss: 0.599...\n",
            "Epoch: 2/10... Step: 9000... Train Loss: 0.596...\n",
            "Epoch: 2/10... Train Loss: 0.077... Test Loss: 0.073\n",
            "Epoch: 3/10... Step: 1000... Train Loss: 0.565...\n",
            "Epoch: 3/10... Step: 2000... Train Loss: 0.564...\n",
            "Epoch: 3/10... Step: 3000... Train Loss: 0.548...\n",
            "Epoch: 3/10... Step: 4000... Train Loss: 0.558...\n",
            "Epoch: 3/10... Step: 5000... Train Loss: 0.544...\n",
            "Epoch: 3/10... Step: 6000... Train Loss: 0.557...\n",
            "Epoch: 3/10... Step: 7000... Train Loss: 0.567...\n",
            "Epoch: 3/10... Step: 8000... Train Loss: 0.544...\n",
            "Epoch: 3/10... Step: 9000... Train Loss: 0.541...\n",
            "Epoch: 3/10... Train Loss: 0.069... Test Loss: 0.065\n",
            "It's epoch number 3 and the new lr is 0.002\n",
            "Epoch: 4/10... Step: 1000... Train Loss: 0.473...\n",
            "Epoch: 4/10... Step: 2000... Train Loss: 0.474...\n",
            "Epoch: 4/10... Step: 3000... Train Loss: 0.471...\n",
            "Epoch: 4/10... Step: 4000... Train Loss: 0.489...\n",
            "Epoch: 4/10... Step: 5000... Train Loss: 0.502...\n",
            "Epoch: 4/10... Step: 6000... Train Loss: 0.489...\n",
            "Epoch: 4/10... Step: 7000... Train Loss: 0.491...\n",
            "Epoch: 4/10... Step: 8000... Train Loss: 0.476...\n",
            "Epoch: 4/10... Step: 9000... Train Loss: 0.498...\n",
            "Epoch: 4/10... Train Loss: 0.061... Test Loss: 0.063\n",
            "Epoch: 5/10... Step: 1000... Train Loss: 0.458...\n",
            "Epoch: 5/10... Step: 2000... Train Loss: 0.464...\n",
            "Epoch: 5/10... Step: 3000... Train Loss: 0.492...\n",
            "Epoch: 5/10... Step: 4000... Train Loss: 0.470...\n",
            "Epoch: 5/10... Step: 5000... Train Loss: 0.471...\n",
            "Epoch: 5/10... Step: 6000... Train Loss: 0.452...\n",
            "Epoch: 5/10... Step: 7000... Train Loss: 0.465...\n",
            "Epoch: 5/10... Step: 8000... Train Loss: 0.469...\n",
            "Epoch: 5/10... Step: 9000... Train Loss: 0.471...\n",
            "Epoch: 5/10... Train Loss: 0.059... Test Loss: 0.062\n",
            "Epoch: 6/10... Step: 1000... Train Loss: 0.478...\n",
            "Epoch: 6/10... Step: 2000... Train Loss: 0.462...\n",
            "Epoch: 6/10... Step: 3000... Train Loss: 0.457...\n",
            "Epoch: 6/10... Step: 4000... Train Loss: 0.467...\n",
            "Epoch: 6/10... Step: 5000... Train Loss: 0.467...\n",
            "Epoch: 6/10... Step: 6000... Train Loss: 0.450...\n",
            "Epoch: 6/10... Step: 7000... Train Loss: 0.451...\n",
            "Epoch: 6/10... Step: 8000... Train Loss: 0.447...\n",
            "Epoch: 6/10... Step: 9000... Train Loss: 0.467...\n",
            "Epoch: 6/10... Train Loss: 0.058... Test Loss: 0.062\n",
            "It's epoch number 6 and the new lr is 0.001\n",
            "Epoch: 7/10... Step: 1000... Train Loss: 0.448...\n",
            "Epoch: 7/10... Step: 2000... Train Loss: 0.420...\n",
            "Epoch: 7/10... Step: 3000... Train Loss: 0.418...\n",
            "Epoch: 7/10... Step: 4000... Train Loss: 0.438...\n",
            "Epoch: 7/10... Step: 5000... Train Loss: 0.440...\n",
            "Epoch: 7/10... Step: 6000... Train Loss: 0.432...\n",
            "Epoch: 7/10... Step: 7000... Train Loss: 0.408...\n",
            "Epoch: 7/10... Step: 8000... Train Loss: 0.433...\n",
            "Epoch: 7/10... Step: 9000... Train Loss: 0.436...\n",
            "Epoch: 7/10... Train Loss: 0.054... Test Loss: 0.056\n",
            "Epoch: 8/10... Step: 1000... Train Loss: 0.425...\n",
            "Epoch: 8/10... Step: 2000... Train Loss: 0.435...\n",
            "Epoch: 8/10... Step: 3000... Train Loss: 0.424...\n",
            "Epoch: 8/10... Step: 4000... Train Loss: 0.423...\n",
            "Epoch: 8/10... Step: 5000... Train Loss: 0.417...\n",
            "Epoch: 8/10... Step: 6000... Train Loss: 0.425...\n",
            "Epoch: 8/10... Step: 7000... Train Loss: 0.419...\n",
            "Epoch: 8/10... Step: 8000... Train Loss: 0.429...\n",
            "Epoch: 8/10... Step: 9000... Train Loss: 0.416...\n",
            "Epoch: 8/10... Train Loss: 0.053... Test Loss: 0.057\n",
            "Epoch: 9/10... Step: 1000... Train Loss: 0.411...\n",
            "Epoch: 9/10... Step: 2000... Train Loss: 0.409...\n",
            "Epoch: 9/10... Step: 3000... Train Loss: 0.406...\n",
            "Epoch: 9/10... Step: 4000... Train Loss: 0.422...\n",
            "Epoch: 9/10... Step: 5000... Train Loss: 0.411...\n",
            "Epoch: 9/10... Step: 6000... Train Loss: 0.405...\n",
            "Epoch: 9/10... Step: 7000... Train Loss: 0.432...\n",
            "Epoch: 9/10... Step: 8000... Train Loss: 0.404...\n",
            "Epoch: 9/10... Step: 9000... Train Loss: 0.429...\n",
            "Epoch: 9/10... Train Loss: 0.052... Test Loss: 0.055\n",
            "It's epoch number 9 and the new lr is 0.0005\n",
            "Epoch: 10/10... Step: 1000... Train Loss: 0.419...\n",
            "Epoch: 10/10... Step: 2000... Train Loss: 0.404...\n",
            "Epoch: 10/10... Step: 3000... Train Loss: 0.385...\n",
            "Epoch: 10/10... Step: 4000... Train Loss: 0.413...\n",
            "Epoch: 10/10... Step: 5000... Train Loss: 0.388...\n",
            "Epoch: 10/10... Step: 6000... Train Loss: 0.404...\n",
            "Epoch: 10/10... Step: 7000... Train Loss: 0.394...\n",
            "Epoch: 10/10... Step: 8000... Train Loss: 0.413...\n",
            "Epoch: 10/10... Step: 9000... Train Loss: 0.396...\n",
            "Epoch: 10/10... Train Loss: 0.050... Test Loss: 0.055\n",
            "The training ended after 15.307 minutes\n"
          ],
          "name": "stdout"
        }
      ]
    },
    {
      "cell_type": "code",
      "metadata": {
        "id": "rCl4Xx4SVArr",
        "colab_type": "code",
        "colab": {
          "base_uri": "https://localhost:8080/",
          "height": 607
        },
        "outputId": "847a9650-81c9-468b-d2ae-1a2a05e298cf"
      },
      "source": [
        "# Plot the loss graphs\n",
        "plot(\"CPU\",cpu_train_loss, cpu_test_loss)"
      ],
      "execution_count": null,
      "outputs": [
        {
          "output_type": "stream",
          "text": [
            "\t---------Results with CPU---------\n",
            "\n"
          ],
          "name": "stdout"
        },
        {
          "output_type": "display_data",
          "data": {
            "image/png": "[encoded data removed]",
            "text/plain": [
              "<Figure size 432x288 with 1 Axes>"
            ]
          },
          "metadata": {
            "tags": [],
            "needs_background": "light"
          }
        },
        {
          "output_type": "display_data",
          "data": {
            "image/png": "[encoded data removed]",
            "text/plain": [
              "<Figure size 432x288 with 1 Axes>"
            ]
          },
          "metadata": {
            "tags": [],
            "needs_background": "light"
          }
        }
      ]
    },
    {
      "cell_type": "code",
      "metadata": {
        "id": "vHHaXLcpVQ6T",
        "colab_type": "code",
        "colab": {
          "base_uri": "https://localhost:8080/",
          "height": 51
        },
        "outputId": "de8e2c04-8e9d-4714-e59c-4927a9d0df97"
      },
      "source": [
        "# Calculate the accuracies\n",
        "print('Accuracy on the training set: %d%%\\nAccuracy on the test set: %d%%' \n",
        "      % (calculate_accuracy(model_cpu,trainloader),calculate_accuracy(model_cpu,testloader)))"
      ],
      "execution_count": null,
      "outputs": [
        {
          "output_type": "stream",
          "text": [
            "Accuracy on the training set: 89%\n",
            "Accuracy on the test set: 86%\n"
          ],
          "name": "stdout"
        }
      ]
    },
    {
      "cell_type": "markdown",
      "metadata": {
        "id": "rMnb9gSGaIjP",
        "colab_type": "text"
      },
      "source": [
        "# Training with a GPU \n",
        "You are requested to change your code to use the GPU instead of the CPU.\n",
        "This can be easily done bu converting every torch.tensor to torch.cuda.tensor. \n",
        "\n",
        "Specific instructions:\n",
        "* Change the hardware equipent of your colab notebook. To do that, go to the \"Runtime\" menu, and then to \"Change runtime type\". In the dialog box, change \"Hardware accelerator\" to GPU.\n",
        "* Please follow the lines that were commented out with the comment    # -- For GPU (in notebook 11)\n",
        "* Also, remove the lines that have the comment # -- For CPU\n",
        "\n",
        "Train your network again and compare training time."
      ]
    },
    {
      "cell_type": "code",
      "metadata": {
        "id": "77G7gfj6Ok5B",
        "colab_type": "code",
        "colab": {}
      },
      "source": [
        "model_GPU = SVHNCnn().cuda()"
      ],
      "execution_count": null,
      "outputs": []
    },
    {
      "cell_type": "code",
      "metadata": {
        "id": "EnAE7izERyhD",
        "colab_type": "code",
        "colab": {}
      },
      "source": [
        "# Define loss function\n",
        "criterion = nn.CrossEntropyLoss()\n",
        "\n",
        "# Define the learning rate\n",
        "lr=0.004\n",
        "\n",
        "# Define the optimizer\n",
        "optimizer = torch.optim.SGD(model_GPU.parameters(), lr=lr,momentum=0.9)"
      ],
      "execution_count": null,
      "outputs": []
    },
    {
      "cell_type": "code",
      "metadata": {
        "id": "IGwB7SRtH52g",
        "colab_type": "code",
        "colab": {
          "base_uri": "https://localhost:8080/",
          "height": 1000
        },
        "outputId": "bcc49ddb-4c88-40a5-f17a-f543b51bea0e"
      },
      "source": [
        "# Training with GPU\n",
        "gpu_train_loss, gpu_test_loss= train(model_GPU, trainloader, testloader,criterion, optimizer,lr)"
      ],
      "execution_count": null,
      "outputs": [
        {
          "output_type": "stream",
          "text": [
            "Epoch: 1/10... Step: 1000... Train Loss: 1.841...\n",
            "Epoch: 1/10... Step: 2000... Train Loss: 1.060...\n",
            "Epoch: 1/10... Step: 3000... Train Loss: 0.874...\n",
            "Epoch: 1/10... Step: 4000... Train Loss: 0.785...\n",
            "Epoch: 1/10... Step: 5000... Train Loss: 0.722...\n",
            "Epoch: 1/10... Step: 6000... Train Loss: 0.682...\n",
            "Epoch: 1/10... Step: 7000... Train Loss: 0.692...\n",
            "Epoch: 1/10... Step: 8000... Train Loss: 0.646...\n",
            "Epoch: 1/10... Step: 9000... Train Loss: 0.658...\n",
            "Epoch: 1/10... Train Loss: 0.110... Test Loss: 0.076\n",
            "Epoch: 2/10... Step: 1000... Train Loss: 0.604...\n",
            "Epoch: 2/10... Step: 2000... Train Loss: 0.609...\n",
            "Epoch: 2/10... Step: 3000... Train Loss: 0.607...\n",
            "Epoch: 2/10... Step: 4000... Train Loss: 0.598...\n",
            "Epoch: 2/10... Step: 5000... Train Loss: 0.582...\n",
            "Epoch: 2/10... Step: 6000... Train Loss: 0.561...\n",
            "Epoch: 2/10... Step: 7000... Train Loss: 0.550...\n",
            "Epoch: 2/10... Step: 8000... Train Loss: 0.584...\n",
            "Epoch: 2/10... Step: 9000... Train Loss: 0.567...\n",
            "Epoch: 2/10... Train Loss: 0.073... Test Loss: 0.067\n",
            "Epoch: 3/10... Step: 1000... Train Loss: 0.531...\n",
            "Epoch: 3/10... Step: 2000... Train Loss: 0.541...\n",
            "Epoch: 3/10... Step: 3000... Train Loss: 0.536...\n",
            "Epoch: 3/10... Step: 4000... Train Loss: 0.525...\n",
            "Epoch: 3/10... Step: 5000... Train Loss: 0.510...\n",
            "Epoch: 3/10... Step: 6000... Train Loss: 0.536...\n",
            "Epoch: 3/10... Step: 7000... Train Loss: 0.530...\n",
            "Epoch: 3/10... Step: 8000... Train Loss: 0.538...\n",
            "Epoch: 3/10... Step: 9000... Train Loss: 0.534...\n",
            "Epoch: 3/10... Train Loss: 0.066... Test Loss: 0.064\n",
            "It's epoch number 3 and the new lr is 0.002\n",
            "Epoch: 4/10... Step: 1000... Train Loss: 0.470...\n",
            "Epoch: 4/10... Step: 2000... Train Loss: 0.467...\n",
            "Epoch: 4/10... Step: 3000... Train Loss: 0.445...\n",
            "Epoch: 4/10... Step: 4000... Train Loss: 0.468...\n",
            "Epoch: 4/10... Step: 5000... Train Loss: 0.459...\n",
            "Epoch: 4/10... Step: 6000... Train Loss: 0.447...\n",
            "Epoch: 4/10... Step: 7000... Train Loss: 0.487...\n",
            "Epoch: 4/10... Step: 8000... Train Loss: 0.479...\n",
            "Epoch: 4/10... Step: 9000... Train Loss: 0.457...\n",
            "Epoch: 4/10... Train Loss: 0.058... Test Loss: 0.060\n",
            "Epoch: 5/10... Step: 1000... Train Loss: 0.461...\n",
            "Epoch: 5/10... Step: 2000... Train Loss: 0.444...\n",
            "Epoch: 5/10... Step: 3000... Train Loss: 0.439...\n",
            "Epoch: 5/10... Step: 4000... Train Loss: 0.455...\n",
            "Epoch: 5/10... Step: 5000... Train Loss: 0.447...\n",
            "Epoch: 5/10... Step: 6000... Train Loss: 0.452...\n",
            "Epoch: 5/10... Step: 7000... Train Loss: 0.456...\n",
            "Epoch: 5/10... Step: 8000... Train Loss: 0.447...\n",
            "Epoch: 5/10... Step: 9000... Train Loss: 0.434...\n",
            "Epoch: 5/10... Train Loss: 0.056... Test Loss: 0.059\n",
            "Epoch: 6/10... Step: 1000... Train Loss: 0.426...\n",
            "Epoch: 6/10... Step: 2000... Train Loss: 0.441...\n",
            "Epoch: 6/10... Step: 3000... Train Loss: 0.450...\n",
            "Epoch: 6/10... Step: 4000... Train Loss: 0.426...\n",
            "Epoch: 6/10... Step: 5000... Train Loss: 0.426...\n",
            "Epoch: 6/10... Step: 6000... Train Loss: 0.449...\n",
            "Epoch: 6/10... Step: 7000... Train Loss: 0.439...\n",
            "Epoch: 6/10... Step: 8000... Train Loss: 0.441...\n",
            "Epoch: 6/10... Step: 9000... Train Loss: 0.442...\n",
            "Epoch: 6/10... Train Loss: 0.055... Test Loss: 0.057\n",
            "It's epoch number 6 and the new lr is 0.001\n",
            "Epoch: 7/10... Step: 1000... Train Loss: 0.416...\n",
            "Epoch: 7/10... Step: 2000... Train Loss: 0.430...\n",
            "Epoch: 7/10... Step: 3000... Train Loss: 0.377...\n",
            "Epoch: 7/10... Step: 4000... Train Loss: 0.417...\n",
            "Epoch: 7/10... Step: 5000... Train Loss: 0.419...\n",
            "Epoch: 7/10... Step: 6000... Train Loss: 0.407...\n",
            "Epoch: 7/10... Step: 7000... Train Loss: 0.420...\n",
            "Epoch: 7/10... Step: 8000... Train Loss: 0.406...\n",
            "Epoch: 7/10... Step: 9000... Train Loss: 0.434...\n",
            "Epoch: 7/10... Train Loss: 0.052... Test Loss: 0.053\n",
            "Epoch: 8/10... Step: 1000... Train Loss: 0.397...\n",
            "Epoch: 8/10... Step: 2000... Train Loss: 0.412...\n",
            "Epoch: 8/10... Step: 3000... Train Loss: 0.394...\n",
            "Epoch: 8/10... Step: 4000... Train Loss: 0.418...\n",
            "Epoch: 8/10... Step: 5000... Train Loss: 0.407...\n",
            "Epoch: 8/10... Step: 6000... Train Loss: 0.416...\n",
            "Epoch: 8/10... Step: 7000... Train Loss: 0.414...\n",
            "Epoch: 8/10... Step: 8000... Train Loss: 0.405...\n",
            "Epoch: 8/10... Step: 9000... Train Loss: 0.417...\n",
            "Epoch: 8/10... Train Loss: 0.051... Test Loss: 0.053\n",
            "Epoch: 9/10... Step: 1000... Train Loss: 0.411...\n",
            "Epoch: 9/10... Step: 2000... Train Loss: 0.399...\n",
            "Epoch: 9/10... Step: 3000... Train Loss: 0.387...\n",
            "Epoch: 9/10... Step: 4000... Train Loss: 0.403...\n",
            "Epoch: 9/10... Step: 5000... Train Loss: 0.397...\n",
            "Epoch: 9/10... Step: 6000... Train Loss: 0.413...\n",
            "Epoch: 9/10... Step: 7000... Train Loss: 0.406...\n",
            "Epoch: 9/10... Step: 8000... Train Loss: 0.395...\n",
            "Epoch: 9/10... Step: 9000... Train Loss: 0.434...\n",
            "Epoch: 9/10... Train Loss: 0.051... Test Loss: 0.055\n",
            "It's epoch number 9 and the new lr is 0.0005\n",
            "Epoch: 10/10... Step: 1000... Train Loss: 0.402...\n",
            "Epoch: 10/10... Step: 2000... Train Loss: 0.375...\n",
            "Epoch: 10/10... Step: 3000... Train Loss: 0.375...\n",
            "Epoch: 10/10... Step: 4000... Train Loss: 0.372...\n",
            "Epoch: 10/10... Step: 5000... Train Loss: 0.387...\n",
            "Epoch: 10/10... Step: 6000... Train Loss: 0.411...\n",
            "Epoch: 10/10... Step: 7000... Train Loss: 0.384...\n",
            "Epoch: 10/10... Step: 8000... Train Loss: 0.398...\n",
            "Epoch: 10/10... Step: 9000... Train Loss: 0.390...\n",
            "Epoch: 10/10... Train Loss: 0.049... Test Loss: 0.052\n",
            "The training ended after 7.660 minutes\n"
          ],
          "name": "stdout"
        }
      ]
    },
    {
      "cell_type": "code",
      "metadata": {
        "id": "4oEGQ34PGKYZ",
        "colab_type": "code",
        "colab": {
          "base_uri": "https://localhost:8080/",
          "height": 607
        },
        "outputId": "a21ac527-a0a9-48e5-cfaa-4df7bfbc6855"
      },
      "source": [
        "# Plot the loss graphs\n",
        "plot(\"GPU\",gpu_train_loss, gpu_test_loss)"
      ],
      "execution_count": null,
      "outputs": [
        {
          "output_type": "stream",
          "text": [
            "\t---------Results with GPU---------\n",
            "\n"
          ],
          "name": "stdout"
        },
        {
          "output_type": "display_data",
          "data": {
            "image/png": "[encoded data removed]",
            "text/plain": [
              "<Figure size 432x288 with 1 Axes>"
            ]
          },
          "metadata": {
            "tags": [],
            "needs_background": "light"
          }
        },
        {
          "output_type": "display_data",
          "data": {
            "image/png": "[encoded data removed]",
            "text/plain": [
              "<Figure size 432x288 with 1 Axes>"
            ]
          },
          "metadata": {
            "tags": [],
            "needs_background": "light"
          }
        }
      ]
    },
    {
      "cell_type": "code",
      "metadata": {
        "id": "2-sy7xDRI0Ap",
        "colab_type": "code",
        "colab": {
          "base_uri": "https://localhost:8080/",
          "height": 51
        },
        "outputId": "6b1a2459-6dcb-4324-ac83-be8eadd2b6ef"
      },
      "source": [
        "# Calculate the accuracies\n",
        "print('Accuracy on the training set: %d%%\\nAccuracy on the test set: %d%%' \n",
        "      % (calculate_accuracy(model_GPU,trainloader),calculate_accuracy(model_GPU,testloader)))"
      ],
      "execution_count": null,
      "outputs": [
        {
          "output_type": "stream",
          "text": [
            "Accuracy on the training set: 89%\n",
            "Accuracy on the test set: 87%\n"
          ],
          "name": "stdout"
        }
      ]
    },
    {
      "cell_type": "markdown",
      "metadata": {
        "id": "Vm5DnMate6s0",
        "colab_type": "text"
      },
      "source": [
        "# Submission instructions\n",
        "\n",
        "You should submit a pdf file with the following items:\n",
        "\n",
        "CPU Experiment:\n",
        "*   Plot of loss curves (train in blue, test in red)\n",
        "*   Training time\n",
        "\n",
        "GPU Experiment:\n",
        "*   Plot of loss curves (train in blue, test in red)\n",
        "*   Training time\n",
        "\n",
        "Link for your collab notebook.\n",
        "ID and names of submitters.\n",
        "\n",
        "\n",
        "Good luck!"
      ]
    }
  ]
}